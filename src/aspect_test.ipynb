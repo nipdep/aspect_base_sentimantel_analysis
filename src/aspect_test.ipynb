{
 "cells": [
  {
   "cell_type": "code",
   "execution_count": 12,
   "metadata": {
    "collapsed": true
   },
   "outputs": [],
   "source": [
    "from pickle import load\n",
    "from tensorflow.keras.models import load_model\n",
    "import spacy\n",
    "from pandas import read_csv,DataFrame\n",
    "from numpy import vectorize\n",
    "nlp = spacy.load('en_core_web_sm')"
   ]
  },
  {
   "cell_type": "code",
   "execution_count": 2,
   "outputs": [],
   "source": [
    "cat_model = load_model('../Sup/categorical_model.h5')\n",
    "cat_model.load_weights('../Sup/categorical_model_weights.h5')\n",
    "\n",
    "# loading tokenizer\n",
    "with open('../Sup/categorical_tokenizer.pickle', 'rb') as handle:\n",
    "    cat_tokenizer = load(handle)\n",
    "\n",
    "\n",
    "sen_model = load_model('../Sup/sentimental_model.h5')\n",
    "sen_model.load_weights('../Sup/sentimental_model_weights.h5')\n",
    "\n",
    "# loading tokenizer\n",
    "with open('../Sup/sentimental_tokenizer.pickle', 'rb') as handle:\n",
    "    sen_tokenizer = load(handle)\n"
   ],
   "metadata": {
    "collapsed": false,
    "pycharm": {
     "name": "#%%\n"
    }
   }
  },
  {
   "cell_type": "code",
   "execution_count": 3,
   "outputs": [],
   "source": [
    "categories = ['DIRECTING PERFORMANCE', 'CAST PERFORMANCE']"
   ],
   "metadata": {
    "collapsed": false,
    "pycharm": {
     "name": "#%%\n"
    }
   }
  },
  {
   "cell_type": "code",
   "execution_count": 33,
   "outputs": [],
   "source": [
    "def enc_1(x):\n",
    "    if x<0.5:\n",
    "        return 'DIRECTING PERFORMANCE'\n",
    "    else:\n",
    "        return 'CAST PERFORMANCE'\n",
    "\n",
    "def enc_2(x):\n",
    "    if x<0.5:\n",
    "        return 'negative'\n",
    "    else:\n",
    "        return 'positive'\n",
    "encoder_1 = vectorize(enc_1)\n",
    "encoder_2 = vectorize(enc_2)\n",
    "\n",
    "def predictions(csv_path):\n",
    "    data = read_csv(csv_path)\n",
    "    reviews = data['review']\n",
    "\n",
    "    test_reviews = [review.lower() for review in reviews]\n",
    "    test_aspect_terms = []\n",
    "    for review in nlp.pipe(test_reviews):\n",
    "        chunks = [(chunk.root.text) for chunk in review.noun_chunks if chunk.root.pos_ == 'NOUN']\n",
    "        test_aspect_terms.append(' '.join(chunks))\n",
    "    test_aspect_terms = DataFrame(cat_tokenizer.texts_to_matrix(test_aspect_terms))\n",
    "\n",
    "    # Sentiment preprocessing\n",
    "    test_sentiment_terms = []\n",
    "    for review in nlp.pipe(test_reviews):\n",
    "        if review.is_parsed:\n",
    "            test_sentiment_terms.append(' '.join([token.lemma_ for token in review if (\n",
    "                        not token.is_stop and not token.is_punct and (token.pos_ == \"ADJ\" or token.pos_ == \"VERB\"))]))\n",
    "        else:\n",
    "            test_sentiment_terms.append('')\n",
    "    test_sentiment_terms = DataFrame(sen_tokenizer.texts_to_matrix(test_sentiment_terms))\n",
    "\n",
    "    test_aspect_categories = encoder_1(cat_model.predict(test_aspect_terms))\n",
    "    test_sentiment = encoder_2(sen_model.predict(test_sentiment_terms))\n",
    "\n",
    "    aspect_categories = list(test_aspect_terms)\n",
    "    sentiment = list(test_sentiment_terms)\n",
    "\n",
    "    sen_column = DataFrame(test_sentiment)\n",
    "    cat_column = DataFrame(test_aspect_categories)\n",
    "    data['sentiment_results'] = sen_column\n",
    "    data['categorical_result'] = cat_column\n",
    "\n",
    "    categorized = [[],[]]\n",
    "    for ind,i in enumerate(aspect_categories):\n",
    "        if i > 0.5:\n",
    "            categorized[0].append(ind)\n",
    "        else:\n",
    "            categorized[1].append(ind)\n",
    "\n",
    "\n",
    "    result = {}\n",
    "    for ind in range(len(categorized)):\n",
    "        lis = categorized[ind]\n",
    "        tol = len(lis)\n",
    "        pos = 0\n",
    "        for val in lis:\n",
    "            if sentiment[val] > 0.5:\n",
    "                pos+=1\n",
    "        result[categories[ind]] = pos/tol if tol != 0 else 0.0\n",
    "\n",
    "    print(result)\n",
    "\n",
    "    return data,result"
   ],
   "metadata": {
    "collapsed": false,
    "pycharm": {
     "name": "#%%\n"
    }
   }
  },
  {
   "cell_type": "code",
   "execution_count": 34,
   "outputs": [
    {
     "name": "stdout",
     "output_type": "stream",
     "text": [
      "{'DIRECTING PERFORMANCE': 1.0, 'CAST PERFORMANCE': 0.0}\n"
     ]
    },
    {
     "data": {
      "text/plain": "(                                               review sentiment_results  \\\n 0   One of the other reviewers has mentioned that ...          positive   \n 1   A wonderful little production. <br /><br />The...          positive   \n 2   I thought this was a wonderful way to spend ti...          positive   \n 3   Basically there's a family where a little boy ...          positive   \n 4   Petter Mattei's \"Love in the Time of Money\" is...          positive   \n 5   Probably my all-time favorite movie, a story o...          positive   \n 6   I sure would like to see a resurrection of a u...          positive   \n 7   This show was an amazing, fresh & innovative i...          negative   \n 8   Encouraged by the positive comments about this...          negative   \n 9   If you like original gut wrenching laughter yo...          positive   \n 10  Phil the Alien is one of those quirky films wh...          negative   \n 11  I saw this movie when I was about 12 when it c...          negative   \n 12  So im not a big fan of Boll's work but then ag...          positive   \n 13  The cast played Shakespeare.<br /><br />Shakes...          positive   \n 14  This a fantastic movie of three prisoners who ...          negative   \n \n        categorical_result  \n 0   DIRECTING PERFORMANCE  \n 1   DIRECTING PERFORMANCE  \n 2   DIRECTING PERFORMANCE  \n 3   DIRECTING PERFORMANCE  \n 4   DIRECTING PERFORMANCE  \n 5   DIRECTING PERFORMANCE  \n 6   DIRECTING PERFORMANCE  \n 7   DIRECTING PERFORMANCE  \n 8   DIRECTING PERFORMANCE  \n 9   DIRECTING PERFORMANCE  \n 10  DIRECTING PERFORMANCE  \n 11  DIRECTING PERFORMANCE  \n 12  DIRECTING PERFORMANCE  \n 13  DIRECTING PERFORMANCE  \n 14  DIRECTING PERFORMANCE  ,\n {'DIRECTING PERFORMANCE': 1.0, 'CAST PERFORMANCE': 0.0})"
     },
     "execution_count": 34,
     "metadata": {},
     "output_type": "execute_result"
    }
   ],
   "source": [
    "predictions('../Sup/test.csv')"
   ],
   "metadata": {
    "collapsed": false,
    "pycharm": {
     "name": "#%%\n"
    }
   }
  },
  {
   "cell_type": "code",
   "execution_count": null,
   "outputs": [],
   "source": [],
   "metadata": {
    "collapsed": false,
    "pycharm": {
     "name": "#%%\n"
    }
   }
  }
 ],
 "metadata": {
  "kernelspec": {
   "display_name": "Python 3",
   "language": "python",
   "name": "python3"
  },
  "language_info": {
   "codemirror_mode": {
    "name": "ipython",
    "version": 2
   },
   "file_extension": ".py",
   "mimetype": "text/x-python",
   "name": "python",
   "nbconvert_exporter": "python",
   "pygments_lexer": "ipython2",
   "version": "2.7.6"
  }
 },
 "nbformat": 4,
 "nbformat_minor": 0
}