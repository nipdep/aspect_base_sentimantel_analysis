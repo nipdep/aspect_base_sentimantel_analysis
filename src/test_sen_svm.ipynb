{
 "cells": [
  {
   "cell_type": "code",
   "execution_count": 1,
   "metadata": {
    "collapsed": true
   },
   "outputs": [],
   "source": [
    "import pickle\n",
    "from pandas import read_csv,DataFrame"
   ]
  },
  {
   "cell_type": "code",
   "execution_count": 2,
   "outputs": [],
   "source": [
    "with open('../Sup/sen_svm_model1.0.sav','rb') as pf:\n",
    "    sen_model = pickle.load(pf)\n",
    "\n",
    "with open('../Sup/gen_kmn_model1.0.sav','rb') as pf:\n",
    "    gen_model = pickle.load(pf)"
   ],
   "metadata": {
    "collapsed": false,
    "pycharm": {
     "name": "#%%\n"
    }
   }
  },
  {
   "cell_type": "code",
   "execution_count": null,
   "outputs": [],
   "source": [
    "#model.predict(['Every once in a while a movie comes, that truly makes an impact'])"
   ],
   "metadata": {
    "collapsed": false,
    "pycharm": {
     "name": "#%%\n"
    }
   }
  },
  {
   "cell_type": "code",
   "execution_count": 3,
   "outputs": [],
   "source": [
    "def predictions(csv_path):\n",
    "    data = read_csv(csv_path)\n",
    "    reviews = data['review'].values\n",
    "\n",
    "    sen_results = sen_model.predict(reviews)\n",
    "    gen_results = gen_model.predict(reviews)\n",
    "\n",
    "    genres = [[],[],[],[],[]]\n",
    "    for i in range(len(gen_results)):\n",
    "        if gen_results[i]==0:\n",
    "            genres[0].append(i)\n",
    "        elif gen_results[i]==1:\n",
    "            genres[1].append(i)\n",
    "        elif gen_results[i]==2:\n",
    "            genres[2].append(i)\n",
    "        elif gen_results[i]==3:\n",
    "            genres[3].append(i)\n",
    "        else:\n",
    "            genres[4].append(i)\n",
    "    gen_qua = []\n",
    "    for gens in genres:\n",
    "        c = 0\n",
    "        for i in gens:\n",
    "            if sen_results[i]==1:\n",
    "                c+=1\n",
    "        if len(gens)!=0:\n",
    "            prec = c/len(gens)\n",
    "        else:\n",
    "            prec = 0.0\n",
    "        gen_qua.append(prec)\n",
    "    fin_result =  {'Action':gen_qua[0],'Horror':gen_qua[1],'Comedy':gen_qua[2],'Romance':gen_qua[3],'Animation':gen_qua[4]}\n",
    "    sen_result = list(map(lambda x:'Positive' if x == 1 else 'Negative',sen_results))\n",
    "    sen_res = DataFrame(sen_result)\n",
    "    gen_res = DataFrame(gen_results)\n",
    "    data['Genre result'] = gen_res\n",
    "    data['Sentiment result'] = sen_res\n",
    "    print(fin_result)\n",
    "    return data,fin_result"
   ],
   "metadata": {
    "collapsed": false,
    "pycharm": {
     "name": "#%%\n"
    }
   }
  },
  {
   "cell_type": "code",
   "execution_count": 4,
   "outputs": [
    {
     "name": "stdout",
     "output_type": "stream",
     "text": [
      "{'Action': 0.0, 'Horror': 0.6923076923076923, 'Comedy': 1.0, 'Romance': 0.0, 'Animation': 0.0}\n"
     ]
    },
    {
     "name": "stderr",
     "output_type": "stream",
     "text": [
      "C:\\Users\\deela\\.conda\\envs\\ML_env\\lib\\site-packages\\sklearn\\feature_extraction\\text.py:386: UserWarning: Your stop_words may be inconsistent with your preprocessing. Tokenizing the stop words generated tokens [\"'d\", \"'ll\", \"'re\", \"'s\", \"'ve\", 'could', 'might', 'must', \"n't\", 'need', 'sha', 'wo', 'would'] not in stop_words.\n",
      "  'stop_words.' % sorted(inconsistent))\n"
     ]
    },
    {
     "data": {
      "text/plain": "(                                               review  Genre result  \\\n 0   One of the other reviewers has mentioned that ...             1   \n 1   A wonderful little production. <br /><br />The...             1   \n 2   I thought this was a wonderful way to spend ti...             1   \n 3   Basically there's a family where a little boy ...             1   \n 4   Petter Mattei's \"Love in the Time of Money\" is...             1   \n 5   Probably my all-time favorite movie, a story o...             1   \n 6   I sure would like to see a resurrection of a u...             1   \n 7   This show was an amazing, fresh & innovative i...             1   \n 8   Encouraged by the positive comments about this...             1   \n 9   If you like original gut wrenching laughter yo...             2   \n 10  Phil the Alien is one of those quirky films wh...             1   \n 11  I saw this movie when I was about 12 when it c...             1   \n 12  So im not a big fan of Boll's work but then ag...             1   \n 13  The cast played Shakespeare.<br /><br />Shakes...             1   \n 14  This a fantastic movie of three prisoners who ...             0   \n \n     Sentiment result  \n 0                  1  \n 1                  1  \n 2                  1  \n 3                  1  \n 4                  1  \n 5                  1  \n 6                  1  \n 7                  1  \n 8                  0  \n 9                  1  \n 10                 0  \n 11                 1  \n 12                 0  \n 13                 0  \n 14                 0  ,\n {'Action': 0.0,\n  'Horror': 0.6923076923076923,\n  'Comedy': 1.0,\n  'Romance': 0.0,\n  'Animation': 0.0})"
     },
     "execution_count": 4,
     "metadata": {},
     "output_type": "execute_result"
    }
   ],
   "source": [
    "predictions('../Sup/test.csv')"
   ],
   "metadata": {
    "collapsed": false,
    "pycharm": {
     "name": "#%%\n"
    }
   }
  },
  {
   "cell_type": "code",
   "execution_count": null,
   "outputs": [],
   "source": [],
   "metadata": {
    "collapsed": false,
    "pycharm": {
     "name": "#%%\n"
    }
   }
  }
 ],
 "metadata": {
  "kernelspec": {
   "display_name": "Python 3",
   "language": "python",
   "name": "python3"
  },
  "language_info": {
   "codemirror_mode": {
    "name": "ipython",
    "version": 2
   },
   "file_extension": ".py",
   "mimetype": "text/x-python",
   "name": "python",
   "nbconvert_exporter": "python",
   "pygments_lexer": "ipython2",
   "version": "2.7.6"
  }
 },
 "nbformat": 4,
 "nbformat_minor": 0
}