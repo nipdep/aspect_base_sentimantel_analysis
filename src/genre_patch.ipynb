{
 "cells": [
  {
   "cell_type": "code",
   "execution_count": 1,
   "metadata": {
    "collapsed": true
   },
   "outputs": [],
   "source": [
    "from pickle import load\n",
    "from tensorflow.keras.models import load_model\n",
    "from tensorflow.keras.preprocessing.sequence import pad_sequences\n",
    "import spacy\n",
    "import numpy as np\n",
    "from pandas import read_csv,DataFrame\n",
    "import nltk\n",
    "nlp = spacy.load('en_core_web_sm')"
   ]
  },
  {
   "cell_type": "code",
   "execution_count": 3,
   "outputs": [],
   "source": [
    "cat_model = load_model('../Sup/categorical_genre_model.h5')\n",
    "cat_model.load_weights('../Sup/categorical_genre_model_weights.h5')"
   ],
   "metadata": {
    "collapsed": false,
    "pycharm": {
     "name": "#%%\n"
    }
   }
  },
  {
   "cell_type": "code",
   "execution_count": 4,
   "outputs": [],
   "source": [
    "# loading tokenizer\n",
    "with open('../Sup/categorical_genre_tokenizer.pickle', 'rb') as handle:\n",
    "    cat_tokenizer = load(handle)"
   ],
   "metadata": {
    "collapsed": false,
    "pycharm": {
     "name": "#%%\n"
    }
   }
  },
  {
   "cell_type": "code",
   "execution_count": 5,
   "outputs": [],
   "source": [
    "# loading labeleEncoder\n",
    "with open('../Sup/categorical_genre_labeleEncorder.pkl', 'rb') as handle:\n",
    "    cat_label_encoder = load(handle)"
   ],
   "metadata": {
    "collapsed": false,
    "pycharm": {
     "name": "#%%\n"
    }
   }
  },
  {
   "cell_type": "code",
   "execution_count": 7,
   "outputs": [],
   "source": [
    "sen_model = load_model('../Sup/sentimental_model.1.h5')\n",
    "sen_model.load_weights('../Sup/sentimental_model_weights1.1.h5')"
   ],
   "metadata": {
    "collapsed": false,
    "pycharm": {
     "name": "#%%\n"
    }
   }
  },
  {
   "cell_type": "code",
   "execution_count": 8,
   "outputs": [],
   "source": [
    "# loading tokenizer\n",
    "with open('../Sup/sentimental_1_tokenizer.pickle', 'rb') as handle:\n",
    "    sen_tokenizer = load(handle)"
   ],
   "metadata": {
    "collapsed": false,
    "pycharm": {
     "name": "#%%\n"
    }
   }
  },
  {
   "cell_type": "code",
   "execution_count": 9,
   "outputs": [],
   "source": [
    "# loading labeleEncoder\n",
    "def binarizing(a):\n",
    "    if a == 'positive':\n",
    "        return 1\n",
    "    else:\n",
    "        return 0\n",
    "bina = np.vectorize(binarizing)"
   ],
   "metadata": {
    "collapsed": false,
    "pycharm": {
     "name": "#%%\n"
    }
   }
  },
  {
   "cell_type": "code",
   "execution_count": 10,
   "outputs": [],
   "source": [
    "categories = ['Action', 'Horror', 'Romance',\n",
    "              'Comedy', 'Animation']"
   ],
   "metadata": {
    "collapsed": false,
    "pycharm": {
     "name": "#%%\n"
    }
   }
  },
  {
   "cell_type": "code",
   "execution_count": 16,
   "outputs": [],
   "source": [
    "from nltk.tokenize import word_tokenize\n",
    "\n",
    "from nltk.corpus import stopwords\n",
    "stop_words = set(stopwords.words('english'))\n",
    "stop_words.add('br')\n",
    "\n",
    "import string\n",
    "table = str.maketrans('', '', string.punctuation)\n",
    "\n",
    "def predictions(csv_path):\n",
    "    data = read_csv(csv_path)\n",
    "    reviews = data['review']\n",
    "\n",
    "    test_reviews = [review.lower() for review in reviews]\n",
    "    test_aspect_terms = []\n",
    "    filtered_str = []\n",
    "    for review in test_reviews:\n",
    "        tokens = word_tokenize(review)\n",
    "        tokens = [w.lower() for w in tokens]\n",
    "        # remove punctuation from each word\n",
    "        stripped = [w.translate(table) for w in tokens]\n",
    "        # remove remaining tokens that are not alphabetic\n",
    "        words = [word for word in stripped if word.isalpha()]\n",
    "        # filter out stop words\n",
    "        words = ' '.join([w for w in words if not w in stop_words])\n",
    "        filtered_str.append(words)\n",
    "\n",
    "    for review in nlp.pipe(filtered_str):\n",
    "        chunks = [(chunk.root.text) for chunk in review.noun_chunks if chunk.root.pos_ == 'NOUN']\n",
    "        test_aspect_terms.append(' '.join(chunks))\n",
    "\n",
    "    filtered = np.array(filtered_str)\n",
    "    test_aspect_terms = np.array(test_aspect_terms)\n",
    "    sequence = cat_tokenizer.texts_to_sequences(test_aspect_terms)\n",
    "    gen_tokenized = pad_sequences(sequence,maxlen=120,padding='post',truncating='post',value=0)\n",
    "\n",
    "    sequence = sen_tokenizer.texts_to_sequences(filtered)\n",
    "    sen_tokenized = pad_sequences(sequence,maxlen=120,padding='post',truncating='post',value=0)\n",
    "\n",
    "    test_aspect_categories = cat_label_encoder.inverse_transform(cat_model.predict_classes(gen_tokenized))\n",
    "    test_sentiment = sen_model.predict_classes(sen_tokenized)\n",
    "\n",
    "    categorized = [[],[],[],[],[]]\n",
    "    for ind,i in enumerate(test_aspect_categories):\n",
    "        if i == 'Action':\n",
    "            categorized[0].append(ind)\n",
    "            continue\n",
    "        elif i == 'Horror':\n",
    "            categorized[1].append(ind)\n",
    "            continue\n",
    "        elif i == 'Comedy' :\n",
    "            categorized[2].append(ind)\n",
    "            continue\n",
    "        elif i == 'Romance' :\n",
    "            categorized[3].append(ind)\n",
    "            continue\n",
    "        elif i == 'Animation' :\n",
    "            categorized[4].append(ind)\n",
    "\n",
    "    result = {}\n",
    "    for ind in range(len(categorized)):\n",
    "        lis = categorized[ind]\n",
    "        tol = len(lis)\n",
    "        pos = 0\n",
    "        for val in lis:\n",
    "            if test_sentiment[val] == 1:\n",
    "                pos+=1\n",
    "        result[categories[ind]] = pos/tol if tol != 0 else 0.0\n",
    "\n",
    "    print(result)"
   ],
   "metadata": {
    "collapsed": false,
    "pycharm": {
     "name": "#%%\n"
    }
   }
  },
  {
   "cell_type": "code",
   "execution_count": 17,
   "outputs": [
    {
     "name": "stdout",
     "output_type": "stream",
     "text": [
      "{'Action': 0.4, 'Horror': 0.5, 'Romance': 0.8, 'Comedy': 1.0, 'Animation': 0.0}\n"
     ]
    }
   ],
   "source": [
    "predictions('../Sup/test.csv')"
   ],
   "metadata": {
    "collapsed": false,
    "pycharm": {
     "name": "#%%\n"
    }
   }
  },
  {
   "cell_type": "code",
   "execution_count": null,
   "outputs": [],
   "source": [],
   "metadata": {
    "collapsed": false,
    "pycharm": {
     "name": "#%%\n"
    }
   }
  }
 ],
 "metadata": {
  "kernelspec": {
   "display_name": "Python 3",
   "language": "python",
   "name": "python3"
  },
  "language_info": {
   "codemirror_mode": {
    "name": "ipython",
    "version": 2
   },
   "file_extension": ".py",
   "mimetype": "text/x-python",
   "name": "python",
   "nbconvert_exporter": "python",
   "pygments_lexer": "ipython2",
   "version": "2.7.6"
  }
 },
 "nbformat": 4,
 "nbformat_minor": 0
}