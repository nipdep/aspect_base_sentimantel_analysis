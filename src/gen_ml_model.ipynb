{
 "cells": [
  {
   "cell_type": "code",
   "execution_count": 1,
   "outputs": [],
   "source": [
    "import pandas as pd\n",
    "from bs4 import BeautifulSoup\n",
    "import numpy as np"
   ],
   "metadata": {
    "collapsed": false,
    "pycharm": {
     "name": "#%%\n"
    }
   }
  },
  {
   "cell_type": "code",
   "execution_count": 2,
   "outputs": [
    {
     "data": {
      "text/plain": "                                              review   genre sentiment\n0  Confidently directed  dark  brooding  and pack...  Action  Positive\n1  Nolans have given the character this great man...  Action  Positive\n2  there is action  explosions and stunt work but...  Action  Positive\n3  The acting story atmosphere and actions scenes...  Action  Positive\n4  I recommend it to anyone who likes action movi...  Action  Positive",
      "text/html": "<div>\n<style scoped>\n    .dataframe tbody tr th:only-of-type {\n        vertical-align: middle;\n    }\n\n    .dataframe tbody tr th {\n        vertical-align: top;\n    }\n\n    .dataframe thead th {\n        text-align: right;\n    }\n</style>\n<table border=\"1\" class=\"dataframe\">\n  <thead>\n    <tr style=\"text-align: right;\">\n      <th></th>\n      <th>review</th>\n      <th>genre</th>\n      <th>sentiment</th>\n    </tr>\n  </thead>\n  <tbody>\n    <tr>\n      <th>0</th>\n      <td>Confidently directed  dark  brooding  and pack...</td>\n      <td>Action</td>\n      <td>Positive</td>\n    </tr>\n    <tr>\n      <th>1</th>\n      <td>Nolans have given the character this great man...</td>\n      <td>Action</td>\n      <td>Positive</td>\n    </tr>\n    <tr>\n      <th>2</th>\n      <td>there is action  explosions and stunt work but...</td>\n      <td>Action</td>\n      <td>Positive</td>\n    </tr>\n    <tr>\n      <th>3</th>\n      <td>The acting story atmosphere and actions scenes...</td>\n      <td>Action</td>\n      <td>Positive</td>\n    </tr>\n    <tr>\n      <th>4</th>\n      <td>I recommend it to anyone who likes action movi...</td>\n      <td>Action</td>\n      <td>Positive</td>\n    </tr>\n  </tbody>\n</table>\n</div>"
     },
     "execution_count": 2,
     "metadata": {},
     "output_type": "execute_result"
    }
   ],
   "source": [
    "file_path = '../Sup/genres.csv'\n",
    "dataset = pd.read_csv(file_path)\n",
    "\n",
    "dataset.head()"
   ],
   "metadata": {
    "collapsed": false,
    "pycharm": {
     "name": "#%%\n"
    }
   }
  },
  {
   "cell_type": "code",
   "execution_count": 3,
   "outputs": [
    {
     "name": "stdout",
     "output_type": "stream",
     "text": [
      "['Action' 'Horror' 'Comedy' 'Romance' 'Animation']\n"
     ]
    }
   ],
   "source": [
    "print(dataset['genre'].unique())\n",
    "encording_dict = {'Action':0,'Horror':1,'Comedy':2,'Romance':3,'Animation':4}\n",
    "dataset['categories'] = dataset['genre'].apply(lambda x:encording_dict[x])\n",
    "from sklearn import preprocessing"
   ],
   "metadata": {
    "collapsed": false,
    "pycharm": {
     "name": "#%%\n"
    }
   }
  },
  {
   "cell_type": "code",
   "execution_count": 4,
   "outputs": [],
   "source": [
    "#reviews = dataset['review'].apply(lambda x:BeautifulSoup(x,'lxml').text)"
   ],
   "metadata": {
    "collapsed": false,
    "pycharm": {
     "name": "#%%\n"
    }
   }
  },
  {
   "cell_type": "code",
   "execution_count": 5,
   "outputs": [],
   "source": [
    "data = dataset.loc[:,['review','categories']]"
   ],
   "metadata": {
    "collapsed": false,
    "pycharm": {
     "name": "#%%\n"
    }
   }
  },
  {
   "cell_type": "code",
   "execution_count": 6,
   "outputs": [],
   "source": [
    "from sklearn.model_selection import train_test_split\n",
    "train,test = train_test_split(data,test_size=0.1,random_state=1)\n",
    "X_train = train['review'].values\n",
    "X_test = test['review'].values\n",
    "#y_train = preprocessing.label_binarize(train['categories'].values, classes=[0, 1, 2, 3,4])\n",
    "y_train = train['categories'].values\n",
    "y_test = test['categories'].values\n",
    "#y_test = preprocessing.label_binarize(test['categories'].values, classes=[0, 1, 2, 3,4])"
   ],
   "metadata": {
    "collapsed": false,
    "pycharm": {
     "name": "#%%\n"
    }
   }
  },
  {
   "cell_type": "code",
   "execution_count": 7,
   "outputs": [],
   "source": [
    "from nltk.tokenize import word_tokenize\n",
    "from nltk.stem import SnowballStemmer\n",
    "from nltk.corpus import stopwords\n",
    "\n",
    "en_stopwords = set(stopwords.words(\"english\"))\n",
    "\n",
    "from sklearn.feature_extraction.text import CountVectorizer\n",
    "\n",
    "vectorize = CountVectorizer(analyzer='word',\n",
    "                            tokenizer=word_tokenize,\n",
    "                            lowercase=True,\n",
    "                            stop_words=en_stopwords)\n",
    "\n"
   ],
   "metadata": {
    "collapsed": false,
    "pycharm": {
     "name": "#%%\n"
    }
   }
  },
  {
   "cell_type": "code",
   "execution_count": 8,
   "outputs": [],
   "source": [
    "from sklearn.model_selection import StratifiedKFold\n",
    "\n",
    "kFold = StratifiedKFold(n_splits=5,shuffle=True,random_state=1)"
   ],
   "metadata": {
    "collapsed": false,
    "pycharm": {
     "name": "#%%\n"
    }
   }
  },
  {
   "cell_type": "code",
   "execution_count": 9,
   "outputs": [],
   "source": [
    "from sklearn.pipeline import make_pipeline\n",
    "from sklearn.neighbors import KNeighborsClassifier\n",
    "\n",
    "#pipeline_svm = make_pipeline(vectorize,\n",
    "#                             KNeighborsClassifier(n_neighbors = 5,\n",
    "#                                                  metric = 'minkowski',\n",
    "#                                                  p=1))\n",
    "\n",
    "from sklearn.svm import SVC\n",
    "\n",
    "pipeline_svm = make_pipeline(vectorize,\n",
    "                             SVC(probability=True,\n",
    "                                 kernel='rbf',\n",
    "                                 class_weight='balanced'))\n"
   ],
   "metadata": {
    "collapsed": false,
    "pycharm": {
     "name": "#%%\n"
    }
   }
  },
  {
   "cell_type": "code",
   "execution_count": 10,
   "outputs": [],
   "source": [
    "from sklearn.model_selection import GridSearchCV\n",
    "\n",
    "svm_grid = GridSearchCV(pipeline_svm,\n",
    "                        cv=kFold,\n",
    "                        param_grid={},\n",
    "                        verbose=1,\n",
    "                        n_jobs=1)"
   ],
   "metadata": {
    "collapsed": false,
    "pycharm": {
     "name": "#%%\n"
    }
   }
  },
  {
   "cell_type": "code",
   "execution_count": 11,
   "outputs": [
    {
     "name": "stdout",
     "output_type": "stream",
     "text": [
      "Fitting 5 folds for each of 1 candidates, totalling 5 fits\n"
     ]
    },
    {
     "name": "stderr",
     "output_type": "stream",
     "text": [
      "[Parallel(n_jobs=1)]: Using backend SequentialBackend with 1 concurrent workers.\n",
      "C:\\Users\\deela\\.conda\\envs\\ML_env\\lib\\site-packages\\sklearn\\feature_extraction\\text.py:386: UserWarning: Your stop_words may be inconsistent with your preprocessing. Tokenizing the stop words generated tokens [\"'d\", \"'ll\", \"'re\", \"'s\", \"'ve\", 'could', 'might', 'must', \"n't\", 'need', 'sha', 'wo', 'would'] not in stop_words.\n",
      "  'stop_words.' % sorted(inconsistent))\n",
      "C:\\Users\\deela\\.conda\\envs\\ML_env\\lib\\site-packages\\sklearn\\feature_extraction\\text.py:386: UserWarning: Your stop_words may be inconsistent with your preprocessing. Tokenizing the stop words generated tokens [\"'d\", \"'ll\", \"'re\", \"'s\", \"'ve\", 'could', 'might', 'must', \"n't\", 'need', 'sha', 'wo', 'would'] not in stop_words.\n",
      "  'stop_words.' % sorted(inconsistent))\n",
      "C:\\Users\\deela\\.conda\\envs\\ML_env\\lib\\site-packages\\sklearn\\feature_extraction\\text.py:386: UserWarning: Your stop_words may be inconsistent with your preprocessing. Tokenizing the stop words generated tokens [\"'d\", \"'ll\", \"'re\", \"'s\", \"'ve\", 'could', 'might', 'must', \"n't\", 'need', 'sha', 'wo', 'would'] not in stop_words.\n",
      "  'stop_words.' % sorted(inconsistent))\n",
      "C:\\Users\\deela\\.conda\\envs\\ML_env\\lib\\site-packages\\sklearn\\feature_extraction\\text.py:386: UserWarning: Your stop_words may be inconsistent with your preprocessing. Tokenizing the stop words generated tokens [\"'d\", \"'ll\", \"'re\", \"'s\", \"'ve\", 'could', 'might', 'must', \"n't\", 'need', 'sha', 'wo', 'would'] not in stop_words.\n",
      "  'stop_words.' % sorted(inconsistent))\n",
      "C:\\Users\\deela\\.conda\\envs\\ML_env\\lib\\site-packages\\sklearn\\feature_extraction\\text.py:386: UserWarning: Your stop_words may be inconsistent with your preprocessing. Tokenizing the stop words generated tokens [\"'d\", \"'ll\", \"'re\", \"'s\", \"'ve\", 'could', 'might', 'must', \"n't\", 'need', 'sha', 'wo', 'would'] not in stop_words.\n",
      "  'stop_words.' % sorted(inconsistent))\n",
      "[Parallel(n_jobs=1)]: Done   5 out of   5 | elapsed:    2.5s finished\n",
      "C:\\Users\\deela\\.conda\\envs\\ML_env\\lib\\site-packages\\sklearn\\feature_extraction\\text.py:386: UserWarning: Your stop_words may be inconsistent with your preprocessing. Tokenizing the stop words generated tokens [\"'d\", \"'ll\", \"'re\", \"'s\", \"'ve\", 'could', 'might', 'must', \"n't\", 'need', 'sha', 'wo', 'would'] not in stop_words.\n",
      "  'stop_words.' % sorted(inconsistent))\n"
     ]
    },
    {
     "data": {
      "text/plain": "GridSearchCV(cv=StratifiedKFold(n_splits=5, random_state=1, shuffle=True),\n             estimator=Pipeline(steps=[('countvectorizer',\n                                        CountVectorizer(stop_words={'a',\n                                                                    'about',\n                                                                    'above',\n                                                                    'after',\n                                                                    'again',\n                                                                    'against',\n                                                                    'ain',\n                                                                    'all', 'am',\n                                                                    'an', 'and',\n                                                                    'any',\n                                                                    'are',\n                                                                    'aren',\n                                                                    \"aren't\",\n                                                                    'as', 'at',\n                                                                    'be',\n                                                                    'because',\n                                                                    'been',\n                                                                    'before',\n                                                                    'being',\n                                                                    'below',\n                                                                    'between',\n                                                                    'both',\n                                                                    'but', 'by',\n                                                                    'can',\n                                                                    'couldn',\n                                                                    \"couldn't\", ...},\n                                                        tokenizer=<function word_tokenize at 0x000001CC880A4D38>)),\n                                       ('svc',\n                                        SVC(class_weight='balanced',\n                                            probability=True))]),\n             n_jobs=1, param_grid={}, verbose=1)"
     },
     "execution_count": 11,
     "metadata": {},
     "output_type": "execute_result"
    }
   ],
   "source": [
    "svm_grid.fit(X_train,y_train)"
   ],
   "metadata": {
    "collapsed": false,
    "pycharm": {
     "name": "#%%\n"
    }
   }
  },
  {
   "cell_type": "code",
   "execution_count": 12,
   "outputs": [
    {
     "data": {
      "text/plain": "0.93"
     },
     "execution_count": 12,
     "metadata": {},
     "output_type": "execute_result"
    }
   ],
   "source": [
    "svm_grid.score(X_test,y_test)"
   ],
   "metadata": {
    "collapsed": false,
    "pycharm": {
     "name": "#%%\n"
    }
   }
  },
  {
   "cell_type": "code",
   "execution_count": 13,
   "outputs": [
    {
     "name": "stdout",
     "output_type": "stream",
     "text": [
      "0\n",
      "{}\n",
      "0.8911111111111112\n"
     ]
    }
   ],
   "source": [
    "print(svm_grid.best_index_)\n",
    "print(svm_grid.best_params_)\n",
    "print(svm_grid.best_score_)\n",
    "\n",
    "model = svm_grid.best_estimator_"
   ],
   "metadata": {
    "collapsed": false,
    "pycharm": {
     "name": "#%%\n"
    }
   }
  },
  {
   "cell_type": "code",
   "execution_count": 18,
   "outputs": [
    {
     "name": "stdout",
     "output_type": "stream",
     "text": [
      "0.93\n"
     ]
    }
   ],
   "source": [
    "\n",
    "from sklearn.metrics import make_scorer, accuracy_score, f1_score\n",
    "from sklearn.metrics import roc_curve, auc\n",
    "from sklearn.metrics import confusion_matrix, roc_auc_score, recall_score, precision_score\n",
    "\n",
    "#pred_proba = model.predict_proba(X_test)[:,1]\n",
    "pred = model.predict(X_test)\n",
    "\n",
    "y = y_test\n",
    "#auc = roc_auc_score(y, pred_proba)\n",
    "acc = accuracy_score(y, pred)\n",
    "#f1 = f1_score(y, pred)\n",
    "#prec = precision_score(y, pred)\n",
    "#rec = recall_score(y, pred)\n",
    "#result = { 'acc': acc, 'precision': prec, 'recall': rec}\n",
    "print(acc)\n"
   ],
   "metadata": {
    "collapsed": false,
    "pycharm": {
     "name": "#%%\n"
    }
   }
  },
  {
   "cell_type": "code",
   "execution_count": 15,
   "outputs": [],
   "source": [
    "#import pickle\n",
    "#with open('../Sup/gen_kmn_model1.0.sav','wb') as pf:\n",
    "#    pickle.dump(svm_grid,pf)"
   ],
   "metadata": {
    "collapsed": false,
    "pycharm": {
     "name": "#%%\n"
    }
   }
  },
  {
   "cell_type": "code",
   "execution_count": 15,
   "outputs": [],
   "source": [],
   "metadata": {
    "collapsed": false,
    "pycharm": {
     "name": "#%%\n"
    }
   }
  }
 ],
 "metadata": {
  "kernelspec": {
   "display_name": "Python 3",
   "language": "python",
   "name": "python3"
  },
  "language_info": {
   "codemirror_mode": {
    "name": "ipython",
    "version": 2
   },
   "file_extension": ".py",
   "mimetype": "text/x-python",
   "name": "python",
   "nbconvert_exporter": "python",
   "pygments_lexer": "ipython2",
   "version": "2.7.6"
  }
 },
 "nbformat": 4,
 "nbformat_minor": 0
}